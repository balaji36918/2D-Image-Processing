{
  "nbformat": 4,
  "nbformat_minor": 0,
  "metadata": {
    "colab": {
      "name": "Exercise 1-Code.ipynb",
      "provenance": [],
      "collapsed_sections": [],
      "toc_visible": true,
      "include_colab_link": true
    },
    "kernelspec": {
      "name": "python3",
      "display_name": "Python 3"
    },
    "language_info": {
      "name": "python"
    }
  },
  "cells": [
    {
      "cell_type": "markdown",
      "metadata": {
        "id": "view-in-github",
        "colab_type": "text"
      },
      "source": [
        "<a href=\"https://colab.research.google.com/github/balaji36918/2D-Image-Processing/blob/main/Exercise_1_Code.ipynb\" target=\"_parent\"><img src=\"https://colab.research.google.com/assets/colab-badge.svg\" alt=\"Open In Colab\"/></a>"
      ]
    },
    {
      "cell_type": "markdown",
      "metadata": {
        "id": "UH1sdb4v5NpL"
      },
      "source": [
        "Task 1"
      ]
    },
    {
      "cell_type": "code",
      "metadata": {
        "id": "AOOEAgGKXaY-"
      },
      "source": [
        "# Import PyDrive and associated libraries.\n",
        "# This only needs to be done once per notebook.\n",
        "from pydrive.auth import GoogleAuth\n",
        "from pydrive.drive import GoogleDrive\n",
        "from google.colab import auth\n",
        "from oauth2client.client import GoogleCredentials\n",
        "\n",
        "# Authenticate and create the PyDrive client.\n",
        "# This only needs to be done once per notebook.\n",
        "auth.authenticate_user()\n",
        "gauth = GoogleAuth()\n",
        "gauth.credentials = GoogleCredentials.get_application_default()\n",
        "drive = GoogleDrive(gauth)\n",
        "\n",
        "# Download a file based on its file ID.\n",
        "#\n",
        "# A file ID looks like: laggVyWshwcyP6kEI-y_W3P8D26sz\n",
        "file_id = 'REPLACE_WITH_YOUR_FILE_ID'\n",
        "downloaded = drive.CreateFile({'id': file_id})\n",
        "print('Downloaded content \"{}\"'.format(downloaded.GetContentString()))"
      ],
      "execution_count": null,
      "outputs": []
    },
    {
      "cell_type": "code",
      "metadata": {
        "colab": {
          "base_uri": "https://localhost:8080/",
          "height": 128
        },
        "id": "MO-UDTfm5Pv7",
        "outputId": "96538604-82b1-4d8f-e1f6-3750881c79fa"
      },
      "source": [
        "import cv2\n",
        "import numpy as np\n",
        "from matplotlib import pyplot as plt\n",
        "\n",
        "img = cv2.imread('/content/sample_data/messi.png', 0)\n",
        "img2 = img.copy()\n",
        "template = cv2.imread('/content/sample_data/template.png', 0)\n",
        "w, h = template.shape[::-1]\n",
        "\n",
        "img = img2.copy()\n",
        "method = eval('cv2.TM_CCOEFF')\n",
        "\n",
        "res = cv2.matchTemplate(img, template, method)\n",
        "min_val, max_val, min_loc, max_loc = cv2.minMaxLoc(res)\n",
        "\n",
        "plt.subplot(121), plt.imshow(res, cmap = 'gray')\n",
        "plt.title('Matching Result'), plt.xticks([]), plt.yticks([])\n",
        "plt.show()"
      ],
      "execution_count": null,
      "outputs": [
        {
          "output_type": "display_data",
          "data": {
            "image/png": "[encoded data removed]",
            "text/plain": [
              "<Figure size 432x288 with 1 Axes>"
            ]
          },
          "metadata": {
            "tags": []
          }
        }
      ]
    },
    {
      "cell_type": "markdown",
      "metadata": {
        "id": "gU30nKuO_Fr8"
      },
      "source": [
        ""
      ]
    },
    {
      "cell_type": "markdown",
      "metadata": {
        "id": "ote7QMEt5KXG"
      },
      "source": [
        "Task 2.1"
      ]
    },
    {
      "cell_type": "code",
      "metadata": {
        "id": "Qh5D1XKl5Ddt"
      },
      "source": [
        "import cv2\n",
        "import numpy as np\n",
        "from matplotlib import pyplot as plt\n",
        "\n",
        "img = cv2.imread(\"./images/eiffel.png\")\n",
        "\n",
        "#create a blurred image\n",
        "blurred_img = cv2.GaussianBlur(img, (25,25), 5)#Gaussian blur\n",
        "#blurred_img = cv2.blur(img, (15,15)) #Average blur\n",
        "cv2.imwrite(\"./blur.png\", blurred_img)\n",
        "\n",
        "#create a rectangular mask\n",
        "mask = np.zeros((1262, 2026, 3), dtype=np.uint8)\n",
        "mask = cv2.rectangle(mask,(1250, 80), (1700, 1000),(255, 255, 0), -1)\n",
        "cv2.imwrite(\"./mask.png\", mask)\n",
        "\n",
        "#combine the original and blurred image based on the mask \n",
        "out = np.where(mask!=np.array([255, 255, 0]),blurred_img, img)\n",
        "\n",
        "cv2.imwrite(\"./out.png\", out)\n",
        "plt.imshow(out)"
      ],
      "execution_count": null,
      "outputs": []
    },
    {
      "cell_type": "markdown",
      "metadata": {
        "id": "i9444fEi6DxP"
      },
      "source": [
        "Task 2.2"
      ]
    },
    {
      "cell_type": "code",
      "metadata": {
        "id": "q1XJUQLc6GPr"
      },
      "source": [
        "import cv2\n",
        "import numpy as np\n",
        "from matplotlib import pyplot as plt\n",
        "\n",
        "img = cv2.imread(\"./images/lena.png\")\n",
        "blurred_img_gaussian_3 = cv2.GaussianBlur(img, (15, 15), 3)\n",
        "cv2.imwrite(\"./blurred_img_gaussian_3.png\", blurred_img_gaussian_3)\n",
        "plt.imshow(blurred_img_gaussian_3)\n",
        "\n",
        "blurred_img_gaussian_5 = cv2.GaussianBlur(img, (15, 15), 5)\n",
        "cv2.imwrite(\"./blurred_img_gaussian_5.png\", blurred_img_gaussian_5)\n",
        "plt.imshow(blurred_img_gaussian_5)\n",
        "\n",
        "blurred_img_gaussian_7 = cv2.GaussianBlur(img, (15, 15), 7)\n",
        "cv2.imwrite(\"./blurred_img_gaussian_7.png\", blurred_img_gaussian_7)\n",
        "plt.imshow(blurred_img_gaussian_7)\n",
        "\n",
        "blurred_img_average = cv2.blur(img, (5, 5))\n",
        "cv2.imwrite(\"./blurred_img_average.png\", blurred_img_average)\n",
        "plt.imshow(blurred_img_average)"
      ],
      "execution_count": null,
      "outputs": []
    },
    {
      "cell_type": "markdown",
      "metadata": {
        "id": "nO70Emgg5CwG"
      },
      "source": [
        "Task 3"
      ]
    },
    {
      "cell_type": "code",
      "metadata": {
        "id": "q9EZDyV55J1g"
      },
      "source": [
        "import random\n",
        "import cv2\n",
        "import numpy as np\n",
        "\n",
        "\n",
        "def impulse_noise(img):\n",
        "  \n",
        "    # Getting the dimensions of the image\n",
        "    row , col = img.shape\n",
        "      \n",
        "    # Randomly pick some pixels in the\n",
        "    # image for coloring them white\n",
        "    # Pick a random number between 300 and 10000\n",
        "    number_of_pixels = random.randint(300, 10000)\n",
        "    for i in range(number_of_pixels):\n",
        "        \n",
        "        # Pick a random y coordinate\n",
        "        y_coord=random.randint(0, row - 1)\n",
        "          \n",
        "        # Pick a random x coordinate\n",
        "        x_coord=random.randint(0, col - 1)\n",
        "          \n",
        "        # Color that pixel to white\n",
        "        img[y_coord][x_coord] = 255\n",
        "                  \n",
        "    return img\n",
        "\n",
        "def saltpepper_noise(img):\n",
        "  \n",
        "    # Getting the dimensions of the image\n",
        "    row , col = img.shape\n",
        "      \n",
        "    # Randomly pick some pixels in the\n",
        "    # image for coloring them white\n",
        "    # Pick a random number between 300 and 10000\n",
        "    number_of_pixels = random.randint(300, 10000)\n",
        "    for i in range(number_of_pixels):\n",
        "        \n",
        "        # Pick a random y coordinate\n",
        "        y_coord=random.randint(0, row - 1)\n",
        "          \n",
        "        # Pick a random x coordinate\n",
        "        x_coord=random.randint(0, col - 1)\n",
        "          \n",
        "        # Color that pixel to white\n",
        "        img[y_coord][x_coord] = 255\n",
        "          \n",
        "    # Randomly pick some pixels in\n",
        "    # the image for coloring them black\n",
        "    # Pick a random number between 300 and 10000\n",
        "    number_of_pixels = random.randint(300 , 10000)\n",
        "    for i in range(number_of_pixels):\n",
        "        \n",
        "        # Pick a random y coordinate\n",
        "        y_coord=random.randint(0, row - 1)\n",
        "          \n",
        "        # Pick a random x coordinate\n",
        "        x_coord=random.randint(0, col - 1)\n",
        "          \n",
        "        # Color that pixel to black\n",
        "        img[y_coord][x_coord] = 0\n",
        "          \n",
        "    return img\n",
        "\n",
        "\n",
        "def gaussian_added(img):\n",
        "    \n",
        "    mean = 1 #constant\n",
        "    std = 1 \n",
        "    noisy_img = img + np.random.normal(mean, std, img.shape)\n",
        "    noisy_img_clipped = np.clip(noisy_img, 0, 255)\n",
        "    return img\n",
        "\n",
        "# Reading the color image in greyscale image\n",
        "img = cv2.imread('lena.png', 0)\n",
        "\n",
        "impulsenoise_added = impulse_noise(img)\n",
        "saltpeppernoise_added = saltpepper_noise(img)\n",
        "gaussian_added = gaussian_added(img)\n",
        "\n",
        "#Noises\n",
        "cv2.imwrite('Impulsenoise_added.png', impulsenoise_added)\n",
        "cv2.imwrite('Saltpeppernoise_added.png', saltpeppernoise_added)\n",
        "cv2.imwrite('gaussian_added.png', gaussian_added)\n",
        "\n",
        "cv2.imshow('Impulsenoise_added.png', impulsenoise_added)\n",
        "cv2.imshow('Saltpeppernoise_added.png', saltpeppernoise_added)\n",
        "cv2.imshow('gaussian_added.png', gaussian_added)\n",
        "\n",
        "#apply gaussian and average \n",
        "\n",
        "sg_ipn = cv2.GaussianBlur(impulsenoise_added, (5,5), 0) #gaussian_smoothening\n",
        "sg_spn = cv2.GaussianBlur(saltpeppernoise_added, (5,5), 0) \n",
        "sg_gaussian = cv2.GaussianBlur(gaussian_added, (5,5), 0)\n",
        "\n",
        "sa_ipn = cv2.blur(impulsenoise_added, (5,5)) #average_smoothening\n",
        "sa_spn = cv2.blur(saltpeppernoise_added, (5,5)) \n",
        "sa_gaussian = cv2.blur(gaussian_added, (5,5))\n",
        "       \n",
        "cv2.imwrite('sg_ipn.png', sg_ipn)\n",
        "cv2.imwrite('sg_spn.png', sg_spn)\n",
        "cv2.imwrite('sg_gaussian.png', sg_gaussian)\n",
        "cv2.imwrite('sa_ipn.png', sa_ipn)\n",
        "cv2.imwrite('sa_spn.png', sa_spn)\n",
        "cv2.imwrite('sa_gaussian.png', sa_gaussian)\n",
        "\n",
        "\n",
        "\n",
        "#applying median filter to noises\n",
        "\n",
        "mf_ipn = cv2.medianBlur(impulsenoise_added, 5)\n",
        "mf_spn = cv2.medianBlur(saltpeppernoise_added, 5)\n",
        "mf_gaussian = cv2.medianBlur(gaussian_added, 5)\n",
        "\n",
        "cv2.imwrite('mf_ipn.png', mf_ipn)\n",
        "cv2.imwrite('mf_spn.png', mf_spn)\n",
        "cv2.imwrite('mf_gaussian.png', mf_gaussian)\n",
        "\n",
        "#sharpening\n",
        "\n",
        "filter = np.array([[-1, -1, -1], [-1, 11, -1], [-1, -1, -1]])\n",
        "sharpen_img_1=cv2.filter2D(img,-1,filter)\n",
        "\n",
        "\n",
        "cv2.imwrite('sharpen_img.png', sharpen_img_1)\n",
        "\n",
        "cv2.imshow('Impulsenoise_added.png', impulsenoise_added)\n",
        "cv2.imshow('Saltpeppernoise_added.png', saltpeppernoise_added)\n",
        "cv2.imshow('gaussian_added.png', gaussian_added)\n",
        "\n",
        "cv2.imshow('sg_ipn.png', sg_ipn)\n",
        "cv2.imshow('sg_spn.png', sg_spn)\n",
        "cv2.imshow('sg_gaussian.png', sg_gaussian)\n",
        "cv2.imshow('sa_ipn.png', sa_ipn)\n",
        "cv2.imshow('sa_spn.png', sa_spn)\n",
        "cv2.imshow('sa_gaussian.png', sa_gaussian)\n",
        "\n",
        "cv2.imshow('mf_ipn.png', mf_ipn)\n",
        "cv2.imshow('mf_spn.png', mf_spn)\n",
        "cv2.imshow('mf_gaussian.png', mf_gaussian)\n",
        "\n",
        "cv2.imshow('sharpen_img.png', sharpen_img_1)\n",
        "cv2.waitKey()"
      ],
      "execution_count": null,
      "outputs": []
    },
    {
      "cell_type": "markdown",
      "metadata": {
        "id": "P-CNn_N1DRLw"
      },
      "source": [
        "Task 4.1 and 4.3"
      ]
    },
    {
      "cell_type": "code",
      "metadata": {
        "id": "W_rD5JaKDZr6"
      },
      "source": [
        "import cv2\n",
        "import numpy as np\n",
        "from matplotlib import pyplot as plt\n",
        "\n",
        "\n",
        "img = cv2.imread('lena.png',0)\n",
        "\n",
        "laplacian = cv2.Laplacian(img, cv2.CV_64F, ksize=3)\n",
        "laplacian = np.uint8(np.absolute(laplacian))\n",
        "\n",
        "dft = cv2.dft(np.float32(laplacian), flags=cv2.DFT_COMPLEX_OUTPUT)\n",
        "\n",
        "dft_shift = np.fft.fftshift(dft)\n",
        "\n",
        "magnitude_spectrum = 20*np.log(cv2.magnitude(dft_shift[:,:,1],dft_shift[:,:,1]))\n",
        "\n",
        "\n",
        "#HPF mask\n",
        "rows, cols = img.shape\n",
        "crow, ccol = int(rows / 2), int(cols / 2)\n",
        "mask = np.ones((rows, cols,2),np.uint8)\n",
        "r = 0\n",
        "center = [crow, ccol]\n",
        "x, y = np.ogrid[:rows, :cols]\n",
        "mask_area = (x - center[0]) ** 2 + (y - center[1]) ** 2 <= r*r\n",
        "mask[mask_area] = 0\n",
        "\n",
        "fshift = dft_shift * mask\n",
        "\n",
        "fshift_mask_magHPF = 2000 * np.log(cv2.magnitude(fshift[:,:,0], fshift[:,:,1]))\n",
        "\n",
        "f_ishift = np.fft.ifftshift(fshift)\n",
        "img_backHPF = cv2.idft(f_ishift)\n",
        "img_backHPF = cv2.magnitude(img_backHPF[:,:,0], img_backHPF[:, :,1])\n",
        "\n",
        "\n",
        "\n",
        "\n",
        "titles = ['Input Image','FFT of an Image after Laplacian', 'FFT + HPF ', 'Output after removing low frequency']\n",
        "images = [img, magnitude_spectrum,fshift_mask_magHPF, img_backHPF,]\n",
        "\n",
        "\n",
        "\n",
        "for i in range(4):\n",
        "    plt.subplot(2, 2, i+1), plt.imshow(images[i],cmap='gray')\n",
        "    plt.title(titles[i])\n",
        "    plt.xticks([]),plt.yticks([])\n",
        "\n",
        "\n",
        "plt.show()"
      ],
      "execution_count": null,
      "outputs": []
    },
    {
      "cell_type": "markdown",
      "metadata": {
        "id": "3fgPjX9i4-AV"
      },
      "source": [
        "Task 4.1 and 4.2"
      ]
    },
    {
      "cell_type": "code",
      "metadata": {
        "id": "cF2iHM7Y5CJ3"
      },
      "source": [
        "import cv2 as cv\n",
        "import numpy as np\n",
        "from matplotlib import pyplot as plt\n",
        "\n",
        "\n",
        "img = cv.imread('messi.png',0)\n",
        "dft = cv.dft(np.float32(img),flags = cv.DFT_COMPLEX_OUTPUT)\n",
        "dft_shift = np.fft.fftshift(dft)\n",
        "magnitude_spectrum = 20*np.log(cv.magnitude(dft_shift[:,:,0],dft_shift[:,:,1]))\n",
        "\n",
        "\n",
        "rows, cols = img.shape\n",
        "crow,ccol = rows//2 , cols//2\n",
        "# create a mask first, center square is 1, remaining all zeros\n",
        "mask = np.zeros((rows,cols,2),np.uint8)\n",
        "mask[crow-30:crow+30, ccol-30:ccol+30] = 1\n",
        "# apply mask and inverse DFT\n",
        "fshift = dft_shift*mask\n",
        "f_ishift = np.fft.ifftshift(fshift)\n",
        "img_back = cv.idft(f_ishift)\n",
        "img_back = cv.magnitude(img_back[:,:,0],img_back[:,:,1])\n",
        "\n",
        "\n",
        "titles = ['Input Image','magnitude_spectrum','After using LPF with mask']\n",
        "images = [img, magnitude_spectrum, img_back,]\n",
        "\n",
        "\n",
        "for i in range(3):\n",
        "    plt.subplot(1, 3, i+1), plt.imshow(images[i],cmap='gray')\n",
        "    plt.title(titles[i])\n",
        "    plt.xticks([]),plt.yticks([])\n",
        "\n",
        "plt.show()\n"
      ],
      "execution_count": null,
      "outputs": []
    },
    {
      "cell_type": "markdown",
      "metadata": {
        "id": "D-HQHAh2zGAU"
      },
      "source": [
        "Task 5"
      ]
    },
    {
      "cell_type": "code",
      "metadata": {
        "colab": {
          "base_uri": "https://localhost:8080/",
          "height": 316
        },
        "id": "7p9M8KIgzC0H",
        "outputId": "0d934b50-f395-48b3-8922-60e290753cfa"
      },
      "source": [
        "import cv2\n",
        "import numpy as np\n",
        "from matplotlib import pyplot as plt\n",
        "\n",
        "img = cv2.imread(\"/content/sample_data/lena.png\")\n",
        "colorlist = []\n",
        "\n",
        "def histogram():\n",
        "    h, w, c = img.shape\n",
        "    i = 0\n",
        "    while i < h:\n",
        "        n = 0\n",
        "        while n < w:\n",
        "            colorlist.append(img[i, n][0])\n",
        "            #print(img[i, n][0])\n",
        "            n += 1\n",
        "        i += 1\n",
        "\n",
        "    histo_list = [np.arange(min(colorlist), max(colorlist)+1, 1)] + [np.zeros(max(colorlist)-min(colorlist)+1)]\n",
        "\n",
        "    for i in colorlist:\n",
        "        histo_list[1][i - min(colorlist)] += 1\n",
        "    print(histo_list)\n",
        "    plt.hist(colorlist, bins=(max(colorlist)-min(colorlist)+1))\n",
        "    plt.show()\n",
        "\n",
        "def histogram_with_values(h,w):\n",
        "    i = 0\n",
        "    while i < h:\n",
        "        n = 0\n",
        "        while n < w:\n",
        "            colorlist.append(img[i, n][0])\n",
        "            #print(img[i,n][0])\n",
        "            n += 1\n",
        "        i += 1\n",
        "\n",
        "    histo_list = [np.arange(min(colorlist), max(colorlist)+1, 1)] + [np.zeros(max(colorlist)-min(colorlist)+1)]\n",
        "\n",
        "    for i in colorlist:\n",
        "        histo_list[1][i - min(colorlist)] += 1\n",
        "    print(histo_list)\n",
        "\n",
        "    plt.hist(colorlist, bins=(max(colorlist)-min(colorlist)+1))\n",
        "    plt.show()\n",
        "\n",
        "histogram_with_values(10,10)\n"
      ],
      "execution_count": null,
      "outputs": [
        {
          "output_type": "stream",
          "text": [
            "[array([147, 148, 149, 150, 151, 152, 153, 154, 155, 156, 157, 158, 159,\n",
            "       160, 161, 162, 163]), array([ 1.,  0.,  0.,  0.,  4.,  0., 14.,  0., 23.,  0., 27.,  0., 17.,\n",
            "        0., 11.,  0.,  3.])]\n"
          ],
          "name": "stdout"
        },
        {
          "output_type": "display_data",
          "data": {
            "image/png": "[encoded data removed]",
            "text/plain": [
              "<Figure size 432x288 with 1 Axes>"
            ]
          },
          "metadata": {
            "tags": [],
            "needs_background": "light"
          }
        }
      ]
    }
  ]
}